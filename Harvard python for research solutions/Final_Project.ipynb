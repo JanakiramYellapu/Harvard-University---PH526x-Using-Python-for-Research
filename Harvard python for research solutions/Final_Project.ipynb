{
  "nbformat": 4,
  "nbformat_minor": 0,
  "metadata": {
    "colab": {
      "name": "Final Project.ipynb",
      "provenance": []
    },
    "kernelspec": {
      "name": "python3",
      "display_name": "Python 3"
    }
  },
  "cells": [
    {
      "cell_type": "code",
      "metadata": {
        "id": "xDSMPfwLycB7",
        "colab_type": "code",
        "colab": {}
      },
      "source": [
        "import pandas as pd\n",
        "import numpy as np\n",
        "import matplotlib.pyplot as plt\n"
      ],
      "execution_count": 0,
      "outputs": []
    },
    {
      "cell_type": "code",
      "metadata": {
        "id": "DSG1cNx2ymjL",
        "colab_type": "code",
        "colab": {}
      },
      "source": [
        "df = pd.read_csv(\"train_time_series.csv\")\n",
        "labels = pd.read_csv(\"train_labels.csv\")"
      ],
      "execution_count": 0,
      "outputs": []
    },
    {
      "cell_type": "code",
      "metadata": {
        "id": "nLnckdCezAs7",
        "colab_type": "code",
        "colab": {
          "base_uri": "https://localhost:8080/",
          "height": 255
        },
        "outputId": "01110bf3-653c-479c-b36d-1e18c63f8bb1"
      },
      "source": [
        "df.info()"
      ],
      "execution_count": 4,
      "outputs": [
        {
          "output_type": "stream",
          "text": [
            "<class 'pandas.core.frame.DataFrame'>\n",
            "RangeIndex: 3744 entries, 0 to 3743\n",
            "Data columns (total 7 columns):\n",
            " #   Column      Non-Null Count  Dtype  \n",
            "---  ------      --------------  -----  \n",
            " 0   Unnamed: 0  3744 non-null   int64  \n",
            " 1   timestamp   3744 non-null   int64  \n",
            " 2   UTC time    3744 non-null   object \n",
            " 3   accuracy    3744 non-null   object \n",
            " 4   x           3744 non-null   float64\n",
            " 5   y           3744 non-null   float64\n",
            " 6   z           3744 non-null   float64\n",
            "dtypes: float64(3), int64(2), object(2)\n",
            "memory usage: 204.9+ KB\n"
          ],
          "name": "stdout"
        }
      ]
    },
    {
      "cell_type": "code",
      "metadata": {
        "id": "6jcMjWbQy7ZE",
        "colab_type": "code",
        "colab": {
          "base_uri": "https://localhost:8080/",
          "height": 514
        },
        "outputId": "147cdd1a-8421-4dac-f3a3-0f80716faa31"
      },
      "source": [
        "df.head(15)"
      ],
      "execution_count": 9,
      "outputs": [
        {
          "output_type": "execute_result",
          "data": {
            "text/html": [
              "<div>\n",
              "<style scoped>\n",
              "    .dataframe tbody tr th:only-of-type {\n",
              "        vertical-align: middle;\n",
              "    }\n",
              "\n",
              "    .dataframe tbody tr th {\n",
              "        vertical-align: top;\n",
              "    }\n",
              "\n",
              "    .dataframe thead th {\n",
              "        text-align: right;\n",
              "    }\n",
              "</style>\n",
              "<table border=\"1\" class=\"dataframe\">\n",
              "  <thead>\n",
              "    <tr style=\"text-align: right;\">\n",
              "      <th></th>\n",
              "      <th>Unnamed: 0</th>\n",
              "      <th>timestamp</th>\n",
              "      <th>UTC time</th>\n",
              "      <th>accuracy</th>\n",
              "      <th>x</th>\n",
              "      <th>y</th>\n",
              "      <th>z</th>\n",
              "    </tr>\n",
              "  </thead>\n",
              "  <tbody>\n",
              "    <tr>\n",
              "      <th>0</th>\n",
              "      <td>20586</td>\n",
              "      <td>1565109930787</td>\n",
              "      <td>2019-08-06T16:45:30.787</td>\n",
              "      <td>unknown</td>\n",
              "      <td>-0.006485</td>\n",
              "      <td>-0.934860</td>\n",
              "      <td>-0.069046</td>\n",
              "    </tr>\n",
              "    <tr>\n",
              "      <th>1</th>\n",
              "      <td>20587</td>\n",
              "      <td>1565109930887</td>\n",
              "      <td>2019-08-06T16:45:30.887</td>\n",
              "      <td>unknown</td>\n",
              "      <td>-0.066467</td>\n",
              "      <td>-1.015442</td>\n",
              "      <td>0.089554</td>\n",
              "    </tr>\n",
              "    <tr>\n",
              "      <th>2</th>\n",
              "      <td>20588</td>\n",
              "      <td>1565109930987</td>\n",
              "      <td>2019-08-06T16:45:30.987</td>\n",
              "      <td>unknown</td>\n",
              "      <td>-0.043488</td>\n",
              "      <td>-1.021255</td>\n",
              "      <td>0.178467</td>\n",
              "    </tr>\n",
              "    <tr>\n",
              "      <th>3</th>\n",
              "      <td>20589</td>\n",
              "      <td>1565109931087</td>\n",
              "      <td>2019-08-06T16:45:31.087</td>\n",
              "      <td>unknown</td>\n",
              "      <td>-0.053802</td>\n",
              "      <td>-0.987701</td>\n",
              "      <td>0.068985</td>\n",
              "    </tr>\n",
              "    <tr>\n",
              "      <th>4</th>\n",
              "      <td>20590</td>\n",
              "      <td>1565109931188</td>\n",
              "      <td>2019-08-06T16:45:31.188</td>\n",
              "      <td>unknown</td>\n",
              "      <td>-0.054031</td>\n",
              "      <td>-1.003616</td>\n",
              "      <td>0.126450</td>\n",
              "    </tr>\n",
              "    <tr>\n",
              "      <th>5</th>\n",
              "      <td>20591</td>\n",
              "      <td>1565109931288</td>\n",
              "      <td>2019-08-06T16:45:31.288</td>\n",
              "      <td>unknown</td>\n",
              "      <td>-0.010880</td>\n",
              "      <td>-0.967575</td>\n",
              "      <td>0.170898</td>\n",
              "    </tr>\n",
              "    <tr>\n",
              "      <th>6</th>\n",
              "      <td>20592</td>\n",
              "      <td>1565109931388</td>\n",
              "      <td>2019-08-06T16:45:31.388</td>\n",
              "      <td>unknown</td>\n",
              "      <td>0.052841</td>\n",
              "      <td>-0.982330</td>\n",
              "      <td>0.235565</td>\n",
              "    </tr>\n",
              "    <tr>\n",
              "      <th>7</th>\n",
              "      <td>20593</td>\n",
              "      <td>1565109931488</td>\n",
              "      <td>2019-08-06T16:45:31.488</td>\n",
              "      <td>unknown</td>\n",
              "      <td>0.032974</td>\n",
              "      <td>-1.053207</td>\n",
              "      <td>0.256714</td>\n",
              "    </tr>\n",
              "    <tr>\n",
              "      <th>8</th>\n",
              "      <td>20594</td>\n",
              "      <td>1565109931589</td>\n",
              "      <td>2019-08-06T16:45:31.589</td>\n",
              "      <td>unknown</td>\n",
              "      <td>-0.090424</td>\n",
              "      <td>-0.972794</td>\n",
              "      <td>0.356308</td>\n",
              "    </tr>\n",
              "    <tr>\n",
              "      <th>9</th>\n",
              "      <td>20595</td>\n",
              "      <td>1565109931689</td>\n",
              "      <td>2019-08-06T16:45:31.689</td>\n",
              "      <td>unknown</td>\n",
              "      <td>0.124268</td>\n",
              "      <td>-0.890533</td>\n",
              "      <td>0.223221</td>\n",
              "    </tr>\n",
              "    <tr>\n",
              "      <th>10</th>\n",
              "      <td>20596</td>\n",
              "      <td>1565109931789</td>\n",
              "      <td>2019-08-06T16:45:31.789</td>\n",
              "      <td>unknown</td>\n",
              "      <td>-0.031784</td>\n",
              "      <td>-0.893982</td>\n",
              "      <td>0.264236</td>\n",
              "    </tr>\n",
              "    <tr>\n",
              "      <th>11</th>\n",
              "      <td>20597</td>\n",
              "      <td>1565109931889</td>\n",
              "      <td>2019-08-06T16:45:31.889</td>\n",
              "      <td>unknown</td>\n",
              "      <td>-0.097427</td>\n",
              "      <td>-0.902725</td>\n",
              "      <td>0.137680</td>\n",
              "    </tr>\n",
              "    <tr>\n",
              "      <th>12</th>\n",
              "      <td>20598</td>\n",
              "      <td>1565109931989</td>\n",
              "      <td>2019-08-06T16:45:31.989</td>\n",
              "      <td>unknown</td>\n",
              "      <td>-0.094864</td>\n",
              "      <td>-1.197876</td>\n",
              "      <td>0.128494</td>\n",
              "    </tr>\n",
              "    <tr>\n",
              "      <th>13</th>\n",
              "      <td>20599</td>\n",
              "      <td>1565109932090</td>\n",
              "      <td>2019-08-06T16:45:32.090</td>\n",
              "      <td>unknown</td>\n",
              "      <td>0.013718</td>\n",
              "      <td>-0.852371</td>\n",
              "      <td>-0.000870</td>\n",
              "    </tr>\n",
              "    <tr>\n",
              "      <th>14</th>\n",
              "      <td>20600</td>\n",
              "      <td>1565109932190</td>\n",
              "      <td>2019-08-06T16:45:32.190</td>\n",
              "      <td>unknown</td>\n",
              "      <td>0.067947</td>\n",
              "      <td>-0.988525</td>\n",
              "      <td>0.034973</td>\n",
              "    </tr>\n",
              "  </tbody>\n",
              "</table>\n",
              "</div>"
            ],
            "text/plain": [
              "    Unnamed: 0      timestamp  ...         y         z\n",
              "0        20586  1565109930787  ... -0.934860 -0.069046\n",
              "1        20587  1565109930887  ... -1.015442  0.089554\n",
              "2        20588  1565109930987  ... -1.021255  0.178467\n",
              "3        20589  1565109931087  ... -0.987701  0.068985\n",
              "4        20590  1565109931188  ... -1.003616  0.126450\n",
              "5        20591  1565109931288  ... -0.967575  0.170898\n",
              "6        20592  1565109931388  ... -0.982330  0.235565\n",
              "7        20593  1565109931488  ... -1.053207  0.256714\n",
              "8        20594  1565109931589  ... -0.972794  0.356308\n",
              "9        20595  1565109931689  ... -0.890533  0.223221\n",
              "10       20596  1565109931789  ... -0.893982  0.264236\n",
              "11       20597  1565109931889  ... -0.902725  0.137680\n",
              "12       20598  1565109931989  ... -1.197876  0.128494\n",
              "13       20599  1565109932090  ... -0.852371 -0.000870\n",
              "14       20600  1565109932190  ... -0.988525  0.034973\n",
              "\n",
              "[15 rows x 7 columns]"
            ]
          },
          "metadata": {
            "tags": []
          },
          "execution_count": 9
        }
      ]
    },
    {
      "cell_type": "code",
      "metadata": {
        "id": "W44pVnTgzKyR",
        "colab_type": "code",
        "colab": {
          "base_uri": "https://localhost:8080/",
          "height": 204
        },
        "outputId": "f82a9c98-bad4-4679-8702-74ecac1ad98b"
      },
      "source": [
        "labels.head()"
      ],
      "execution_count": 5,
      "outputs": [
        {
          "output_type": "execute_result",
          "data": {
            "text/html": [
              "<div>\n",
              "<style scoped>\n",
              "    .dataframe tbody tr th:only-of-type {\n",
              "        vertical-align: middle;\n",
              "    }\n",
              "\n",
              "    .dataframe tbody tr th {\n",
              "        vertical-align: top;\n",
              "    }\n",
              "\n",
              "    .dataframe thead th {\n",
              "        text-align: right;\n",
              "    }\n",
              "</style>\n",
              "<table border=\"1\" class=\"dataframe\">\n",
              "  <thead>\n",
              "    <tr style=\"text-align: right;\">\n",
              "      <th></th>\n",
              "      <th>Unnamed: 0</th>\n",
              "      <th>timestamp</th>\n",
              "      <th>UTC time</th>\n",
              "      <th>label</th>\n",
              "    </tr>\n",
              "  </thead>\n",
              "  <tbody>\n",
              "    <tr>\n",
              "      <th>0</th>\n",
              "      <td>20589</td>\n",
              "      <td>1565109931087</td>\n",
              "      <td>2019-08-06T16:45:31.087</td>\n",
              "      <td>1</td>\n",
              "    </tr>\n",
              "    <tr>\n",
              "      <th>1</th>\n",
              "      <td>20599</td>\n",
              "      <td>1565109932090</td>\n",
              "      <td>2019-08-06T16:45:32.090</td>\n",
              "      <td>1</td>\n",
              "    </tr>\n",
              "    <tr>\n",
              "      <th>2</th>\n",
              "      <td>20609</td>\n",
              "      <td>1565109933092</td>\n",
              "      <td>2019-08-06T16:45:33.092</td>\n",
              "      <td>1</td>\n",
              "    </tr>\n",
              "    <tr>\n",
              "      <th>3</th>\n",
              "      <td>20619</td>\n",
              "      <td>1565109934094</td>\n",
              "      <td>2019-08-06T16:45:34.094</td>\n",
              "      <td>1</td>\n",
              "    </tr>\n",
              "    <tr>\n",
              "      <th>4</th>\n",
              "      <td>20629</td>\n",
              "      <td>1565109935097</td>\n",
              "      <td>2019-08-06T16:45:35.097</td>\n",
              "      <td>1</td>\n",
              "    </tr>\n",
              "  </tbody>\n",
              "</table>\n",
              "</div>"
            ],
            "text/plain": [
              "   Unnamed: 0      timestamp                 UTC time  label\n",
              "0       20589  1565109931087  2019-08-06T16:45:31.087      1\n",
              "1       20599  1565109932090  2019-08-06T16:45:32.090      1\n",
              "2       20609  1565109933092  2019-08-06T16:45:33.092      1\n",
              "3       20619  1565109934094  2019-08-06T16:45:34.094      1\n",
              "4       20629  1565109935097  2019-08-06T16:45:35.097      1"
            ]
          },
          "metadata": {
            "tags": []
          },
          "execution_count": 5
        }
      ]
    },
    {
      "cell_type": "code",
      "metadata": {
        "id": "HgAsBeoRziLa",
        "colab_type": "code",
        "colab": {
          "base_uri": "https://localhost:8080/",
          "height": 34
        },
        "outputId": "a16bdfa6-ebb5-4400-bd02-175615f49d83"
      },
      "source": [
        "df.shape"
      ],
      "execution_count": 6,
      "outputs": [
        {
          "output_type": "execute_result",
          "data": {
            "text/plain": [
              "(3744, 7)"
            ]
          },
          "metadata": {
            "tags": []
          },
          "execution_count": 6
        }
      ]
    },
    {
      "cell_type": "code",
      "metadata": {
        "id": "76kfHNdZzkfg",
        "colab_type": "code",
        "colab": {
          "base_uri": "https://localhost:8080/",
          "height": 153
        },
        "outputId": "ad5959d3-f4d8-4f42-d247-58d18a9a00c4"
      },
      "source": [
        "df.isnull().sum()"
      ],
      "execution_count": 8,
      "outputs": [
        {
          "output_type": "execute_result",
          "data": {
            "text/plain": [
              "Unnamed: 0    0\n",
              "timestamp     0\n",
              "UTC time      0\n",
              "accuracy      0\n",
              "x             0\n",
              "y             0\n",
              "z             0\n",
              "dtype: int64"
            ]
          },
          "metadata": {
            "tags": []
          },
          "execution_count": 8
        }
      ]
    },
    {
      "cell_type": "code",
      "metadata": {
        "id": "3QJM5fuF0h0n",
        "colab_type": "code",
        "colab": {
          "base_uri": "https://localhost:8080/",
          "height": 306
        },
        "outputId": "6204fcd1-8527-43c6-c3c2-38bc1deda7d3"
      },
      "source": [
        "df = df[labels[\"Unnamed: 0\"]]"
      ],
      "execution_count": 27,
      "outputs": [
        {
          "output_type": "error",
          "ename": "ValueError",
          "evalue": "ignored",
          "traceback": [
            "\u001b[0;31m---------------------------------------------------------------------------\u001b[0m",
            "\u001b[0;31mValueError\u001b[0m                                Traceback (most recent call last)",
            "\u001b[0;32m<ipython-input-27-7b2ac90f47b4>\u001b[0m in \u001b[0;36m<module>\u001b[0;34m()\u001b[0m\n\u001b[0;32m----> 1\u001b[0;31m \u001b[0mdf\u001b[0m \u001b[0;34m=\u001b[0m \u001b[0mdf\u001b[0m\u001b[0;34m[\u001b[0m\u001b[0mdf\u001b[0m\u001b[0;34m[\u001b[0m\u001b[0;34m\"Unnamed: 0\"\u001b[0m\u001b[0;34m]\u001b[0m \u001b[0;34m==\u001b[0m \u001b[0;34m[\u001b[0m\u001b[0mlabels\u001b[0m\u001b[0;34m[\u001b[0m\u001b[0;34m\"Unnamed: 0\"\u001b[0m\u001b[0;34m]\u001b[0m\u001b[0;34m]\u001b[0m\u001b[0;34m]\u001b[0m\u001b[0;34m\u001b[0m\u001b[0;34m\u001b[0m\u001b[0m\n\u001b[0m",
            "\u001b[0;32m/usr/local/lib/python3.6/dist-packages/pandas/core/ops/common.py\u001b[0m in \u001b[0;36mnew_method\u001b[0;34m(self, other)\u001b[0m\n\u001b[1;32m     62\u001b[0m         \u001b[0mother\u001b[0m \u001b[0;34m=\u001b[0m \u001b[0mitem_from_zerodim\u001b[0m\u001b[0;34m(\u001b[0m\u001b[0mother\u001b[0m\u001b[0;34m)\u001b[0m\u001b[0;34m\u001b[0m\u001b[0;34m\u001b[0m\u001b[0m\n\u001b[1;32m     63\u001b[0m \u001b[0;34m\u001b[0m\u001b[0m\n\u001b[0;32m---> 64\u001b[0;31m         \u001b[0;32mreturn\u001b[0m \u001b[0mmethod\u001b[0m\u001b[0;34m(\u001b[0m\u001b[0mself\u001b[0m\u001b[0;34m,\u001b[0m \u001b[0mother\u001b[0m\u001b[0;34m)\u001b[0m\u001b[0;34m\u001b[0m\u001b[0;34m\u001b[0m\u001b[0m\n\u001b[0m\u001b[1;32m     65\u001b[0m \u001b[0;34m\u001b[0m\u001b[0m\n\u001b[1;32m     66\u001b[0m     \u001b[0;32mreturn\u001b[0m \u001b[0mnew_method\u001b[0m\u001b[0;34m\u001b[0m\u001b[0;34m\u001b[0m\u001b[0m\n",
            "\u001b[0;32m/usr/local/lib/python3.6/dist-packages/pandas/core/ops/__init__.py\u001b[0m in \u001b[0;36mwrapper\u001b[0;34m(self, other)\u001b[0m\n\u001b[1;32m    527\u001b[0m         \u001b[0mrvalues\u001b[0m \u001b[0;34m=\u001b[0m \u001b[0mextract_array\u001b[0m\u001b[0;34m(\u001b[0m\u001b[0mother\u001b[0m\u001b[0;34m,\u001b[0m \u001b[0mextract_numpy\u001b[0m\u001b[0;34m=\u001b[0m\u001b[0;32mTrue\u001b[0m\u001b[0;34m)\u001b[0m\u001b[0;34m\u001b[0m\u001b[0;34m\u001b[0m\u001b[0m\n\u001b[1;32m    528\u001b[0m \u001b[0;34m\u001b[0m\u001b[0m\n\u001b[0;32m--> 529\u001b[0;31m         \u001b[0mres_values\u001b[0m \u001b[0;34m=\u001b[0m \u001b[0mcomparison_op\u001b[0m\u001b[0;34m(\u001b[0m\u001b[0mlvalues\u001b[0m\u001b[0;34m,\u001b[0m \u001b[0mrvalues\u001b[0m\u001b[0;34m,\u001b[0m \u001b[0mop\u001b[0m\u001b[0;34m)\u001b[0m\u001b[0;34m\u001b[0m\u001b[0;34m\u001b[0m\u001b[0m\n\u001b[0m\u001b[1;32m    530\u001b[0m \u001b[0;34m\u001b[0m\u001b[0m\n\u001b[1;32m    531\u001b[0m         \u001b[0;32mreturn\u001b[0m \u001b[0m_construct_result\u001b[0m\u001b[0;34m(\u001b[0m\u001b[0mself\u001b[0m\u001b[0;34m,\u001b[0m \u001b[0mres_values\u001b[0m\u001b[0;34m,\u001b[0m \u001b[0mindex\u001b[0m\u001b[0;34m=\u001b[0m\u001b[0mself\u001b[0m\u001b[0;34m.\u001b[0m\u001b[0mindex\u001b[0m\u001b[0;34m,\u001b[0m \u001b[0mname\u001b[0m\u001b[0;34m=\u001b[0m\u001b[0mres_name\u001b[0m\u001b[0;34m)\u001b[0m\u001b[0;34m\u001b[0m\u001b[0;34m\u001b[0m\u001b[0m\n",
            "\u001b[0;32m/usr/local/lib/python3.6/dist-packages/pandas/core/ops/array_ops.py\u001b[0m in \u001b[0;36mcomparison_op\u001b[0;34m(left, right, op)\u001b[0m\n\u001b[1;32m    232\u001b[0m         \u001b[0;31m#  The ambiguous case is object-dtype.  See GH#27803\u001b[0m\u001b[0;34m\u001b[0m\u001b[0;34m\u001b[0m\u001b[0;34m\u001b[0m\u001b[0m\n\u001b[1;32m    233\u001b[0m         \u001b[0;32mif\u001b[0m \u001b[0mlen\u001b[0m\u001b[0;34m(\u001b[0m\u001b[0mlvalues\u001b[0m\u001b[0;34m)\u001b[0m \u001b[0;34m!=\u001b[0m \u001b[0mlen\u001b[0m\u001b[0;34m(\u001b[0m\u001b[0mrvalues\u001b[0m\u001b[0;34m)\u001b[0m\u001b[0;34m:\u001b[0m\u001b[0;34m\u001b[0m\u001b[0;34m\u001b[0m\u001b[0m\n\u001b[0;32m--> 234\u001b[0;31m             \u001b[0;32mraise\u001b[0m \u001b[0mValueError\u001b[0m\u001b[0;34m(\u001b[0m\u001b[0;34m\"Lengths must match to compare\"\u001b[0m\u001b[0;34m)\u001b[0m\u001b[0;34m\u001b[0m\u001b[0;34m\u001b[0m\u001b[0m\n\u001b[0m\u001b[1;32m    235\u001b[0m \u001b[0;34m\u001b[0m\u001b[0m\n\u001b[1;32m    236\u001b[0m     \u001b[0;32mif\u001b[0m \u001b[0mshould_extension_dispatch\u001b[0m\u001b[0;34m(\u001b[0m\u001b[0mlvalues\u001b[0m\u001b[0;34m,\u001b[0m \u001b[0mrvalues\u001b[0m\u001b[0;34m)\u001b[0m\u001b[0;34m:\u001b[0m\u001b[0;34m\u001b[0m\u001b[0;34m\u001b[0m\u001b[0m\n",
            "\u001b[0;31mValueError\u001b[0m: Lengths must match to compare"
          ]
        }
      ]
    },
    {
      "cell_type": "code",
      "metadata": {
        "id": "7VZSlIYq-37J",
        "colab_type": "code",
        "colab": {}
      },
      "source": [
        "df = df.iloc[3:]\n",
        "df.reset_index(drop = True, inplace= True)\n"
      ],
      "execution_count": 0,
      "outputs": []
    },
    {
      "cell_type": "code",
      "metadata": {
        "id": "TK-QPQIb-Q_W",
        "colab_type": "code",
        "colab": {
          "base_uri": "https://localhost:8080/",
          "height": 122
        },
        "outputId": "092a91dd-d0c4-41b0-847a-54d79d5016db"
      },
      "source": [
        "df[\"labels\"] = 0\n",
        "i =0\n",
        "for ind in range(0, df.shape[0], 10):\n",
        "  df[\"labels\"].iloc[ind : ind+10] = labels[\"label\"].iloc[i]\n",
        "  i +=1"
      ],
      "execution_count": 71,
      "outputs": [
        {
          "output_type": "stream",
          "text": [
            "/usr/local/lib/python3.6/dist-packages/pandas/core/indexing.py:671: SettingWithCopyWarning: \n",
            "A value is trying to be set on a copy of a slice from a DataFrame\n",
            "\n",
            "See the caveats in the documentation: https://pandas.pydata.org/pandas-docs/stable/user_guide/indexing.html#returning-a-view-versus-a-copy\n",
            "  self._setitem_with_indexer(indexer, value)\n"
          ],
          "name": "stderr"
        }
      ]
    },
    {
      "cell_type": "code",
      "metadata": {
        "id": "N5noVlPPCJSE",
        "colab_type": "code",
        "colab": {}
      },
      "source": [
        "input = df[[\"x\", \"y\", \"z\",\"timestamp\"]]\n",
        "output = df[\"labels\"]\n"
      ],
      "execution_count": 0,
      "outputs": []
    },
    {
      "cell_type": "code",
      "metadata": {
        "id": "dve19MP9EudE",
        "colab_type": "code",
        "colab": {}
      },
      "source": [
        "from sklearn.model_selection import train_test_split\n",
        "train_input, test_input,train_output, test_output = train_test_split(input, output, random_state =1)"
      ],
      "execution_count": 0,
      "outputs": []
    },
    {
      "cell_type": "code",
      "metadata": {
        "id": "FXIik4laDKRr",
        "colab_type": "code",
        "colab": {
          "base_uri": "https://localhost:8080/",
          "height": 68
        },
        "outputId": "ca20e10d-a53e-4bcf-e4b9-b88f2fb219d8"
      },
      "source": [
        "from sklearn.neighbors import KNeighborsClassifier\n",
        "model = KNeighborsClassifier(n_neighbors=4)\n",
        "model.fit(train_input, train_output)\n"
      ],
      "execution_count": 90,
      "outputs": [
        {
          "output_type": "execute_result",
          "data": {
            "text/plain": [
              "KNeighborsClassifier(algorithm='auto', leaf_size=30, metric='minkowski',\n",
              "                     metric_params=None, n_jobs=None, n_neighbors=4, p=2,\n",
              "                     weights='uniform')"
            ]
          },
          "metadata": {
            "tags": []
          },
          "execution_count": 90
        }
      ]
    },
    {
      "cell_type": "code",
      "metadata": {
        "id": "cvgHWR4BEIze",
        "colab_type": "code",
        "colab": {
          "base_uri": "https://localhost:8080/",
          "height": 34
        },
        "outputId": "5d1e2e4d-d911-4747-88a0-dbbea529f2e7"
      },
      "source": [
        "model.score(test_input, test_output)"
      ],
      "execution_count": 93,
      "outputs": [
        {
          "output_type": "execute_result",
          "data": {
            "text/plain": [
              "0.9967914438502674"
            ]
          },
          "metadata": {
            "tags": []
          },
          "execution_count": 93
        }
      ]
    }
  ]
}